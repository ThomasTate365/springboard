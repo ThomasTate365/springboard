{
 "cells": [
  {
   "cell_type": "code",
   "execution_count": 1,
   "id": "add45b14",
   "metadata": {},
   "outputs": [],
   "source": [
    "import numpy as np\n",
    "import pandas as pd"
   ]
  },
  {
   "cell_type": "code",
   "execution_count": 4,
   "id": "47079984",
   "metadata": {},
   "outputs": [
    {
     "name": "stderr",
     "output_type": "stream",
     "text": [
      "C:\\Users\\thoma\\AppData\\Local\\Temp\\ipykernel_11896\\627336042.py:3: VisibleDeprecationWarning: Creating an ndarray from ragged nested sequences (which is a list-or-tuple of lists-or-tuples-or ndarrays with different lengths or shapes) is deprecated. If you meant to do this, you must specify 'dtype=object' when creating the ndarray.\n",
      "  'pets': np.array([['cat', 'dog'],\n"
     ]
    }
   ],
   "source": [
    "pets = pd.DataFrame({'sex': np.array(['M', 'M', 'F', 'M', 'F', 'F', 'F', 'M', 'F', 'M']),\n",
    "                   'age': np.array([21, 45, 23, 56, 47, 70, 34, 30, 19, 62]),\n",
    "                   'pets': np.array([['cat', 'dog'],\n",
    "                                    ['hamster'],\n",
    "                                    ['cat', 'gerbil'],\n",
    "                                    ['fish', 'hamster', 'gerbil'],\n",
    "                                    ['cat'],\n",
    "                                    ['dog'],\n",
    "                                    ['dog'],\n",
    "                                    ['cat'],\n",
    "                                    ['rabbit', 'cat'],\n",
    "                                    ['dog']])})"
   ]
  },
  {
   "cell_type": "code",
   "execution_count": null,
   "id": "b915d722",
   "metadata": {},
   "outputs": [],
   "source": []
  }
 ],
 "metadata": {
  "kernelspec": {
   "display_name": "Python 3 (ipykernel)",
   "language": "python",
   "name": "python3"
  },
  "language_info": {
   "codemirror_mode": {
    "name": "ipython",
    "version": 3
   },
   "file_extension": ".py",
   "mimetype": "text/x-python",
   "name": "python",
   "nbconvert_exporter": "python",
   "pygments_lexer": "ipython3",
   "version": "3.9.12"
  }
 },
 "nbformat": 4,
 "nbformat_minor": 5
}
